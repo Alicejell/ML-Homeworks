{
 "cells": [
  {
   "cell_type": "markdown",
   "metadata": {},
   "source": [
    "# Домашняя работа №1"
   ]
  },
  {
   "cell_type": "markdown",
   "metadata": {},
   "source": [
    "**Срок сдачи:** 9 октября 2017, 23:59 <br\\>\n",
    "\n",
    "При отправлении ДЗ в Dropbox указывайте фамилию в названии файла: <br\\>\n",
    "** IDA<Номер группы>HW1<Фамилия>.ipynb ** - например ** IDA1HW1Panov.ipynb **<br\\>\n",
    "\n",
    "\n",
    "Сопровождайте ваш код изображеними, комментариями и выводами. <br\\>\n",
    "Иммейте ввиду, что на некоторые задачи нет единственного верного и полного ответа. Чем больше информации вы сможете извлечь, аргументированных выводов сформулировать, тем лучше.\n",
    "\n",
    "Используйте данный Ipython Notebook при оформлении домашнего задания."
   ]
  },
  {
   "cell_type": "markdown",
   "metadata": {},
   "source": [
    "# Table of Contents\n",
    " <p><div class=\"lev1 toc-item\"><a href=\"#Регрессия-с-SVM-(3-балла)\" data-toc-modified-id=\"Регрессия-с-SVM-(3-балла)-1\"><span class=\"toc-item-num\">1&nbsp;&nbsp;</span>Регрессия с SVM (3 балла)</a></div><div class=\"lev2 toc-item\"><a href=\"#Визуализация-данных-(1-балл)\" data-toc-modified-id=\"Визуализация-данных-(1-балл)-11\"><span class=\"toc-item-num\">1.1&nbsp;&nbsp;</span>Визуализация данных (1 балл)</a></div><div class=\"lev2 toc-item\"><a href=\"#Обучение-моделей-(2-балла)\" data-toc-modified-id=\"Обучение-моделей-(2-балла)-12\"><span class=\"toc-item-num\">1.2&nbsp;&nbsp;</span>Обучение моделей (2 балла)</a></div><div class=\"lev1 toc-item\"><a href=\"#Определение-языка-слова-(7-баллов)\" data-toc-modified-id=\"Определение-языка-слова-(7-баллов)-2\"><span class=\"toc-item-num\">2&nbsp;&nbsp;</span>Определение языка слова (7 баллов)</a></div><div class=\"lev2 toc-item\"><a href=\"#Загрузка-(1-балл)\" data-toc-modified-id=\"Загрузка-(1-балл)-21\"><span class=\"toc-item-num\">2.1&nbsp;&nbsp;</span>Загрузка (1 балл)</a></div><div class=\"lev2 toc-item\"><a href=\"#Подход-с-n-граммами-(2-балла)\" data-toc-modified-id=\"Подход-с-n-граммами-(2-балла)-22\"><span class=\"toc-item-num\">2.2&nbsp;&nbsp;</span>Подход с n-граммами (2 балла)</a></div><div class=\"lev2 toc-item\"><a href=\"#Подход-с-пользовательским-ядром\" data-toc-modified-id=\"Подход-с-пользовательским-ядром-23\"><span class=\"toc-item-num\">2.3&nbsp;&nbsp;</span>Подход с пользовательским ядром</a></div><div class=\"lev3 toc-item\"><a href=\"#Подготовка-данных-(1-балла)\" data-toc-modified-id=\"Подготовка-данных-(1-балла)-231\"><span class=\"toc-item-num\">2.3.1&nbsp;&nbsp;</span>Подготовка данных (1 балла)</a></div><div class=\"lev3 toc-item\"><a href=\"#Расчет-ядра-(2-балла)\" data-toc-modified-id=\"Расчет-ядра-(2-балла)-232\"><span class=\"toc-item-num\">2.3.2&nbsp;&nbsp;</span>Расчет ядра (2 балла)</a></div><div class=\"lev3 toc-item\"><a href=\"#Оценка-качества-(1-балл)\" data-toc-modified-id=\"Оценка-качества-(1-балл)-233\"><span class=\"toc-item-num\">2.3.3&nbsp;&nbsp;</span>Оценка качества (1 балл)</a></div>"
   ]
  },
  {
   "cell_type": "markdown",
   "metadata": {},
   "source": [
    "# Регрессия с SVM (3 балла)"
   ]
  },
  {
   "cell_type": "markdown",
   "metadata": {},
   "source": [
    "SVM можно использовать и для задачи регрессии.\n",
    "\n",
    "Загрузите набор данных из *titanium.csv*<br/>\n",
    "Будем решать задачу восстановления столбца 'y' по столбцу 'x'."
   ]
  },
  {
   "cell_type": "markdown",
   "metadata": {},
   "source": [
    "## Визуализация данных (1 балл)"
   ]
  },
  {
   "cell_type": "markdown",
   "metadata": {},
   "source": [
    "Выполните стандартную предобработку данных (вычет среднего и деление на стандартное отклонение) и выведите их на графике."
   ]
  },
  {
   "cell_type": "code",
   "execution_count": 1,
   "metadata": {
    "collapsed": true
   },
   "outputs": [],
   "source": [
    "import numpy as np \n",
    "%matplotlib inline \n",
    "import matplotlib.pyplot as plt \n",
    "import pandas as pd"
   ]
  },
  {
   "cell_type": "code",
   "execution_count": 2,
   "metadata": {
    "collapsed": false
   },
   "outputs": [
    {
     "data": {
      "text/html": [
       "<div>\n",
       "<table border=\"1\" class=\"dataframe\">\n",
       "  <thead>\n",
       "    <tr style=\"text-align: right;\">\n",
       "      <th></th>\n",
       "      <th>x</th>\n",
       "      <th>y</th>\n",
       "    </tr>\n",
       "  </thead>\n",
       "  <tbody>\n",
       "    <tr>\n",
       "      <th>0</th>\n",
       "      <td>585.0</td>\n",
       "      <td>0.644</td>\n",
       "    </tr>\n",
       "    <tr>\n",
       "      <th>1</th>\n",
       "      <td>595.0</td>\n",
       "      <td>0.622</td>\n",
       "    </tr>\n",
       "    <tr>\n",
       "      <th>2</th>\n",
       "      <td>605.0</td>\n",
       "      <td>0.638</td>\n",
       "    </tr>\n",
       "    <tr>\n",
       "      <th>3</th>\n",
       "      <td>615.0</td>\n",
       "      <td>0.649</td>\n",
       "    </tr>\n",
       "    <tr>\n",
       "      <th>4</th>\n",
       "      <td>625.0</td>\n",
       "      <td>0.652</td>\n",
       "    </tr>\n",
       "  </tbody>\n",
       "</table>\n",
       "</div>"
      ],
      "text/plain": [
       "       x      y\n",
       "0  585.0  0.644\n",
       "1  595.0  0.622\n",
       "2  605.0  0.638\n",
       "3  615.0  0.649\n",
       "4  625.0  0.652"
      ]
     },
     "execution_count": 2,
     "metadata": {},
     "output_type": "execute_result"
    }
   ],
   "source": [
    "data = pd.read_csv('/Users/AliceP/Desktop/IAD/titanium.csv') \n",
    "data.head()\n",
    "z"
   ]
  },
  {
   "cell_type": "code",
   "execution_count": 4,
   "metadata": {
    "collapsed": true
   },
   "outputs": [],
   "source": [
    "X = data.values[:,0]\n",
    "y = data.values[:,1]\n",
    "X1 = (X - X.mean())/X.std()"
   ]
  },
  {
   "cell_type": "code",
   "execution_count": 11,
   "metadata": {
    "collapsed": false
   },
   "outputs": [
    {
     "data": {
      "text/plain": [
       "<matplotlib.text.Text at 0xaf74da0>"
      ]
     },
     "execution_count": 11,
     "metadata": {},
     "output_type": "execute_result"
    },
    {
     "data": {
      "image/png": "[encoded data removed]",
      "text/plain": [
       "<matplotlib.figure.Figure at 0xafad4a8>"
      ]
     },
     "metadata": {},
     "output_type": "display_data"
    }
   ],
   "source": [
    "plt.figure(figsize=(10,7))\n",
    "plt.scatter(X1, y, s=100)\n",
    "plt.xlabel(\" ( x - x.mean() ) / x.std()\")\n",
    "plt.ylabel(\"y\")"
   ]
  },
  {
   "cell_type": "markdown",
   "metadata": {},
   "source": [
    "## Обучение моделей (2 балла)"
   ]
  },
  {
   "cell_type": "markdown",
   "metadata": {},
   "source": [
    "Рассмотрим 3 ядра: \n",
    "* Линейное\n",
    "* Полиномиальное (`degree = 3`, `gamma = 6`, `coef0 = 1`)\n",
    "* RBF (`gamma = 6`, `coef0 = 1`)\n",
    "\n",
    "Во всех случаях установите точность алгоритма оптимизации `epsilon=0.01`\n",
    "\n",
    "Для каждого из ядер:\n",
    "1. Постройте графики зависимости ошибки от параметра $C$ (ось графика со значениями параметра $C$ должна быть в логарифмической шкале). Ошибка измеряется как средняя абсолютная ошибка. \n",
    "2. Для наилучшего параметра $C$ постройте график с данными и предсказанием с помощью SVM.\n",
    "\n",
    "В каких случаях возникают эффекты недообучения, переобучения?"
   ]
  },
  {
   "cell_type": "code",
   "execution_count": 12,
   "metadata": {
    "collapsed": true
   },
   "outputs": [],
   "source": [
    "from sklearn.svm import SVR"
   ]
  },
  {
   "cell_type": "code",
   "execution_count": 13,
   "metadata": {
    "collapsed": false
   },
   "outputs": [
    {
     "data": {
      "text/plain": [
       "(49L,)"
      ]
     },
     "execution_count": 13,
     "metadata": {},
     "output_type": "execute_result"
    }
   ],
   "source": [
    "X1.shape"
   ]
  },
  {
   "cell_type": "code",
   "execution_count": 16,
   "metadata": {
    "collapsed": false
   },
   "outputs": [
    {
     "data": {
      "text/plain": [
       "(49L, 1L)"
      ]
     },
     "execution_count": 16,
     "metadata": {},
     "output_type": "execute_result"
    }
   ],
   "source": [
    "X1 = X1.reshape(-1,1)\n",
    "X1.shape"
   ]
  },
  {
   "cell_type": "code",
   "execution_count": 14,
   "metadata": {
    "collapsed": true
   },
   "outputs": [],
   "source": [
    "from sklearn.metrics import mean_absolute_error"
   ]
  },
  {
   "cell_type": "code",
   "execution_count": 187,
   "metadata": {
    "collapsed": false
   },
   "outputs": [],
   "source": [
    "ccc = np.logspace(-1,2,20)\n",
    "ccc2=np.logspace(-1,5,20)"
   ]
  },
  {
   "cell_type": "code",
   "execution_count": 142,
   "metadata": {
    "collapsed": true
   },
   "outputs": [],
   "source": [
    "from sklearn.model_selection import train_test_split\n",
    "from matplotlib import pyplot"
   ]
  },
  {
   "cell_type": "code",
   "execution_count": 143,
   "metadata": {
    "collapsed": true
   },
   "outputs": [],
   "source": [
    "X1_train, X1_test, Y1_train, Y1_test = train_test_split(X1, y, test_size=0.3, random_state=12345)"
   ]
  },
  {
   "cell_type": "code",
   "execution_count": 121,
   "metadata": {
    "collapsed": false
   },
   "outputs": [
    {
     "data": {
      "image/png": "[encoded data removed]",
      "text/plain": [
       "<matplotlib.figure.Figure at 0xdd92e48>"
      ]
     },
     "metadata": {},
     "output_type": "display_data"
    },
    {
     "name": "stdout",
     "output_type": "stream",
     "text": [
      "наилучшее C = 5.45559478117\n",
      "минимальная ошибка = 0.176759638401\n"
     ]
    },
    {
     "data": {
      "image/png": "[encoded data removed]",
      "text/plain": [
       "<matplotlib.figure.Figure at 0x105c7978>"
      ]
     },
     "metadata": {},
     "output_type": "display_data"
    }
   ],
   "source": [
    "lin_err=[]\n",
    "for i in ccc:\n",
    "    svr_lin = SVR(kernel='linear', C=i ,epsilon=0.01)\n",
    "    y_lin = svr_lin.fit(X1, y).predict(X1)\n",
    "    lin_err.append(mean_absolute_error(y_lin, y))\n",
    "    \n",
    "plt.semilogx(ccc, lin_err, color='green', lw=2, label='Linear model')\n",
    "plt.xlabel('C')\n",
    "plt.ylabel('MAE')\n",
    "plt.title('linear')\n",
    "plt.legend()\n",
    "plt.show()\n",
    "\n",
    "best_C1 = ccc[lin_err.index(min(lin_err))]\n",
    "print(\"наилучшее C = \" + str(best_C1))\n",
    "print(\"минимальная ошибка = \" + str(min(lin_err)))\n",
    "\n",
    "svr_lin = SVR(kernel='linear', C=best_C1 ,epsilon=0.01)\n",
    "y_lin = svr_lin.fit(X1, y).predict(X1)\n",
    "plt.scatter(X1, y, color='darkorange', label='data', s = 10)\n",
    "plt.plot(X1, y_lin, color='c', lw=4, label='Linear model', alpha = 0.8)\n",
    "plt.title('Support Vector Regression')\n",
    "plt.legend()\n",
    "plt.show()"
   ]
  },
  {
   "cell_type": "code",
   "execution_count": 188,
   "metadata": {
    "collapsed": false
   },
   "outputs": [],
   "source": [
    "lin_MAE_train = []\n",
    "lin_MAE_test = []\n",
    "for i in ccc2:\n",
    "    lin_clf_i = SVR(kernel= 'linear', C=i, epsilon=0.01)\n",
    "    lin_clf_i.fit(X1_train, Y1_train)\n",
    "    lin_pred_i_train = lin_clf_i.predict(X1_train)\n",
    "    lin_pred_i_test = lin_clf_i.predict(X1_test)\n",
    "    lin_MAE_train.append(mean_absolute_error(lin_pred_i_train, Y1_train))\n",
    "    lin_MAE_test.append(mean_absolute_error(lin_pred_i_test, Y1_test)) "
   ]
  },
  {
   "cell_type": "code",
   "execution_count": 189,
   "metadata": {
    "collapsed": false
   },
   "outputs": [
    {
     "data": {
      "text/plain": [
       "<matplotlib.legend.Legend at 0x12f50b00>"
      ]
     },
     "execution_count": 189,
     "metadata": {},
     "output_type": "execute_result"
    },
    {
     "data": {
      "image/png": "[encoded data removed]",
      "text/plain": [
       "<matplotlib.figure.Figure at 0x12f50908>"
      ]
     },
     "metadata": {},
     "output_type": "display_data"
    }
   ],
   "source": [
    "plt.plot(ccc2, lin_MAE_train, color='red', label='Train score')\n",
    "pyplot.xscale('log')\n",
    "plt.grid('on')\n",
    "plt.xlabel('C parameter')\n",
    "plt.ylabel('MAE')\n",
    "plt.legend()"
   ]
  },
  {
   "cell_type": "code",
   "execution_count": 190,
   "metadata": {
    "collapsed": false
   },
   "outputs": [
    {
     "data": {
      "text/plain": [
       "<matplotlib.legend.Legend at 0x13861f60>"
      ]
     },
     "execution_count": 190,
     "metadata": {},
     "output_type": "execute_result"
    },
    {
     "data": {
      "image/png": "[encoded data removed]",
      "text/plain": [
       "<matplotlib.figure.Figure at 0x133c7588>"
      ]
     },
     "metadata": {},
     "output_type": "display_data"
    }
   ],
   "source": [
    "plt.plot(ccc, lin_MAE_test, color='blue', label='Test score')\n",
    "pyplot.xscale('log')\n",
    "plt.grid('on')\n",
    "plt.title('Graph for test score')\n",
    "plt.xlabel('C parameter')\n",
    "plt.ylabel('Mean Absolute Error')\n",
    "plt.legend()"
   ]
  },
  {
   "cell_type": "markdown",
   "metadata": {},
   "source": [
    "Вывод: в линейной модели нет ни недообучения, ни переобучения"
   ]
  },
  {
   "cell_type": "code",
   "execution_count": 122,
   "metadata": {
    "collapsed": false
   },
   "outputs": [
    {
     "data": {
      "image/png": "[encoded data removed]",
      "text/plain": [
       "<matplotlib.figure.Figure at 0xf36f390>"
      ]
     },
     "metadata": {},
     "output_type": "display_data"
    },
    {
     "name": "stdout",
     "output_type": "stream",
     "text": [
      "наилучшее C = 0.1\n",
      "минимальная ошибка = 0.154165408997\n"
     ]
    },
    {
     "data": {
      "image/png": "[encoded data removed]",
      "text/plain": [
       "<matplotlib.figure.Figure at 0x108ddf28>"
      ]
     },
     "metadata": {},
     "output_type": "display_data"
    }
   ],
   "source": [
    "pol_err=[]\n",
    "for i in ccc:\n",
    "    svr_poly = SVR(kernel='poly', C=i , degree = 3, gamma = 6, coef0 = 1,epsilon=0.01)\n",
    "    y_poly = svr_poly.fit(X1, y).predict(X1)\n",
    "    pol_err.append(mean_absolute_error(y_poly, y))\n",
    "\n",
    "plt.semilogx(ccc, pol_err, color='cornflowerblue', lw=2, label='Polynomial model')\n",
    "plt.xlabel('C')\n",
    "plt.ylabel('MAE')\n",
    "plt.title('polynomial')\n",
    "plt.legend()\n",
    "plt.show()\n",
    "\n",
    "best_C2 = ccc[pol_err.index(min(pol_err))]\n",
    "print(\"наилучшее C = \" + str(best_C2))\n",
    "print(\"минимальная ошибка = \" + str(min(pol_err)))\n",
    "\n",
    "svr_poly = SVR(kernel='poly', C= best_C2, degree = 3, gamma = 6, coef0 = 1,epsilon=0.01)\n",
    "y_poly = svr_poly.fit(X1, y).predict(X1)\n",
    "\n",
    "plt.scatter(X1, y, color='darkorange', label='data')\n",
    "plt.plot(X1, y_poly, color='cornflowerblue', lw=4, label='Polynomial model', alpha = 0.7)\n",
    "plt.title('Support Vector Regression')\n",
    "plt.legend()\n",
    "plt.show()"
   ]
  },
  {
   "cell_type": "code",
   "execution_count": 206,
   "metadata": {
    "collapsed": true
   },
   "outputs": [],
   "source": [
    "ccc3 = np.logspace(-1,5,6)"
   ]
  },
  {
   "cell_type": "code",
   "execution_count": 207,
   "metadata": {
    "collapsed": false
   },
   "outputs": [],
   "source": [
    "pol_MAE_train = []\n",
    "pol_MAE_test = []\n",
    "for i in ccc3:\n",
    "    pol_clf_i = SVR(kernel= 'poly', C=i, epsilon=0.01, degree=3, gamma=6, coef0=1)\n",
    "    pol_clf_i.fit(X1_train, Y1_train)\n",
    "    pol_pred_i_train = pol_clf_i.predict(X1_train)\n",
    "    pol_pred_i_test = pol_clf_i.predict(X1_test)\n",
    "    pol_MAE_train.append(mean_absolute_error(pol_pred_i_train, Y1_train))\n",
    "    pol_MAE_test.append(mean_absolute_error(pol_pred_i_test, Y1_test))"
   ]
  },
  {
   "cell_type": "code",
   "execution_count": 210,
   "metadata": {
    "collapsed": false
   },
   "outputs": [
    {
     "data": {
      "text/plain": [
       "<matplotlib.legend.Legend at 0x141e4c18>"
      ]
     },
     "execution_count": 210,
     "metadata": {},
     "output_type": "execute_result"
    },
    {
     "data": {
      "image/png": "[encoded data removed]",
      "text/plain": [
       "<matplotlib.figure.Figure at 0x139e72e8>"
      ]
     },
     "metadata": {},
     "output_type": "display_data"
    }
   ],
   "source": [
    "plt.plot(ccc3, pol_MAE_train, color='red', label='Train score')\n",
    "plt.plot(ccc3, pol_MAE_test, color='blue', label='Test score')\n",
    "pyplot.xscale('log')\n",
    "plt.grid('on')\n",
    "plt.xlabel('C parameter')\n",
    "plt.ylabel('MAE')\n",
    "plt.legend()"
   ]
  },
  {
   "cell_type": "markdown",
   "metadata": {},
   "source": [
    "вывод: недообучение при больших С"
   ]
  },
  {
   "cell_type": "code",
   "execution_count": 128,
   "metadata": {
    "collapsed": false
   },
   "outputs": [
    {
     "data": {
      "image/png": "[encoded data removed]",
      "text/plain": [
       "<matplotlib.figure.Figure at 0x10f50b38>"
      ]
     },
     "metadata": {},
     "output_type": "display_data"
    },
    {
     "name": "stdout",
     "output_type": "stream",
     "text": [
      "наилучшее C = 100.0\n",
      " минимальная ошибка= 0.0209330691791\n"
     ]
    },
    {
     "data": {
      "image/png": "[encoded data removed]",
      "text/plain": [
       "<matplotlib.figure.Figure at 0x111b8c18>"
      ]
     },
     "metadata": {},
     "output_type": "display_data"
    }
   ],
   "source": [
    "rbf_err=[]\n",
    "for i in ccc:\n",
    "    svr_rbf = SVR(kernel='rbf', C=i, gamma = 6, coef0 = 1, epsilon=0.01)\n",
    "    y_rbf = svr_rbf.fit(X1, y).predict(X1)\n",
    "    rbf_err.append(mean_absolute_error(y_rbf, y))\n",
    "    \n",
    "plt.semilogx(ccc, rbf_err, color='red', lw=2, label='RBF model')\n",
    "plt.xlabel('C')\n",
    "plt.ylabel('MAE')\n",
    "plt.title('rbf')\n",
    "plt.legend()\n",
    "plt.show()\n",
    "\n",
    "best_C3 = ccc[rbf_err.index(min(rbf_err))]\n",
    "print(\"наилучшее C = \" + str(best_C3))\n",
    "print(\" минимальная ошибка= \" + str(min(rbf_err)))\n",
    "\n",
    "svr_rbf = SVR(kernel='rbf', C= best_C3, gamma = 6, coef0 = 1, epsilon=0.01)\n",
    "y_rbf = svr_rbf.fit(X1, y).predict(X1)\n",
    "\n",
    "plt.scatter(X1, y, color='darkorange', label='data')\n",
    "plt.plot(X1, y_rbf, color='navy', lw=4, label='RBF model',alpha = 0.7)\n",
    "plt.title('Support Vector Regression')\n",
    "plt.legend()\n",
    "plt.show()"
   ]
  },
  {
   "cell_type": "code",
   "execution_count": 185,
   "metadata": {
    "collapsed": true
   },
   "outputs": [],
   "source": [
    "rbf_MAE_train = []\n",
    "rbf_MAE_test = []\n",
    "\n",
    "for i in ccc2:\n",
    "    rbf_clf_i = SVR(kernel= 'rbf', C=i, epsilon=0.01, gamma=6, coef0=1)\n",
    "    rbf_clf_i.fit(X1_train, Y1_train)\n",
    "    rbf_pred_i_train = rbf_clf_i.predict(X1_train)\n",
    "    rbf_pred_i_test = rbf_clf_i.predict(X1_test)\n",
    "    rbf_MAE_train.append(mean_absolute_error(rbf_pred_i_train, Y1_train))\n",
    "    rbf_MAE_test.append(mean_absolute_error(rbf_pred_i_test, Y1_test))"
   ]
  },
  {
   "cell_type": "code",
   "execution_count": 186,
   "metadata": {
    "collapsed": false
   },
   "outputs": [
    {
     "data": {
      "text/plain": [
       "<matplotlib.legend.Legend at 0xea5cdd8>"
      ]
     },
     "execution_count": 186,
     "metadata": {},
     "output_type": "execute_result"
    },
    {
     "data": {
      "image/png": "[encoded data removed]",
      "text/plain": [
       "<matplotlib.figure.Figure at 0x11937c88>"
      ]
     },
     "metadata": {},
     "output_type": "display_data"
    }
   ],
   "source": [
    "plt.plot(ccc2, rbf_MAE_train, color='red', label='Train score')\n",
    "plt.plot(ccc2, rbf_MAE_test, color='blue', label='Test score')\n",
    "pyplot.xscale('log')\n",
    "plt.grid('on')\n",
    "plt.xlabel('C parameter')\n",
    "plt.ylabel('MAE')\n",
    "plt.legend()"
   ]
  },
  {
   "cell_type": "markdown",
   "metadata": {},
   "source": [
    "вывод: при больших значениях С, в rbf будет переобучение"
   ]
  },
  {
   "cell_type": "markdown",
   "metadata": {},
   "source": [
    "# Определение языка слова (7 баллов)"
   ]
  },
  {
   "cell_type": "markdown",
   "metadata": {},
   "source": [
    "В данном задании вам необходимо построить модель, которая будет определять, на каком языке написано слово. Сделать это будет предложено двумя способами.\n",
    "\n",
    "Даны два текста - первые предложения произведения \"Война и Мир\" на английком и испанском, разбитые на слова."
   ]
  },
  {
   "cell_type": "markdown",
   "metadata": {},
   "source": [
    "## Загрузка (1 балл)\n",
    "\n",
    "Загрузите данные из файлов *war_and_peace_es.txt* и *war_and_peace_en.txt*.<br/> \n",
    "В результате вы должны получить pandas.DataFrame со столбцами *index* | *word* | *label*, где *index* - это индекс pandas, *word* - это слово и *label* - это метка класса (0 или 1)"
   ]
  },
  {
   "cell_type": "code",
   "execution_count": 64,
   "metadata": {
    "collapsed": false
   },
   "outputs": [],
   "source": [
    "from pandas import DataFrame\n",
    "from pandas import read_csv\n",
    "df = read_csv(\"/Users/AliceP/Desktop/IAD/war_and_peace_es.txt\",names=[\"word\"] )\n",
    "df[\"label\"]=1\n",
    "df2 = read_csv(\"/Users/AliceP/Desktop/IAD/war_and_peace_en.txt\", names=[\"word\"] )\n",
    "df2[\"label\"]=0\n",
    "df= df.append(df2,ignore_index=True)\n",
    "df.columns.name = \"index\"\n"
   ]
  },
  {
   "cell_type": "code",
   "execution_count": 65,
   "metadata": {
    "collapsed": false
   },
   "outputs": [
    {
     "data": {
      "text/html": [
       "<div>\n",
       "<table border=\"1\" class=\"dataframe\">\n",
       "  <thead>\n",
       "    <tr style=\"text-align: right;\">\n",
       "      <th>index</th>\n",
       "      <th>word</th>\n",
       "      <th>label</th>\n",
       "    </tr>\n",
       "  </thead>\n",
       "  <tbody>\n",
       "    <tr>\n",
       "      <th>0</th>\n",
       "      <td>guerra</td>\n",
       "      <td>1</td>\n",
       "    </tr>\n",
       "    <tr>\n",
       "      <th>1</th>\n",
       "      <td>pace</td>\n",
       "      <td>1</td>\n",
       "    </tr>\n",
       "    <tr>\n",
       "      <th>2</th>\n",
       "      <td>lev</td>\n",
       "      <td>1</td>\n",
       "    </tr>\n",
       "    <tr>\n",
       "      <th>3</th>\n",
       "      <td>nicoevic</td>\n",
       "      <td>1</td>\n",
       "    </tr>\n",
       "    <tr>\n",
       "      <th>4</th>\n",
       "      <td>tolstj</td>\n",
       "      <td>1</td>\n",
       "    </tr>\n",
       "  </tbody>\n",
       "</table>\n",
       "</div>"
      ],
      "text/plain": [
       "index      word  label\n",
       "0        guerra      1\n",
       "1          pace      1\n",
       "2           lev      1\n",
       "3      nicoevic      1\n",
       "4        tolstj      1"
      ]
     },
     "execution_count": 65,
     "metadata": {},
     "output_type": "execute_result"
    }
   ],
   "source": [
    "# like this\n",
    "\n",
    "df.head()"
   ]
  },
  {
   "cell_type": "markdown",
   "metadata": {},
   "source": [
    "## Подход с n-граммами (2 балла)"
   ]
  },
  {
   "cell_type": "markdown",
   "metadata": {},
   "source": [
    "На этом этапе предлагается построить модель используя n-граммы слов, то есть последовательностях из n символов.<br/>\n",
    "Таким образом, признаками наших данных будут все найденные n-граммы слов, а значениями признаков будут частоты соответствующих n-грамм в слове.<br/>\n",
    "Например, для слова \"guerra\" би-граммами будут \"gu\", \"ue\", \"er\", \"rr\", \"ra\", каждая из которых встречается в нем с частотой 1.\n",
    "\n",
    "Для того, чтобы выделять n-граммы, удобно использовать `CountVectorizer()` с аргументами `analyzer='char'` и `ngram_range=(n_min, n_max)`. Вы наверняка встречались с этим векторизатором в предыдущем модуле.\n",
    "\n",
    "Таким образом, сделайте следующее:\n",
    "1. Задайте переменную RND_SEED, которая будет использоваться в любых генераторах случайных чисел в вашем коде (обычно параметр \"random_seed\")\n",
    "2. Разбейте данные на обучающую и отложенную выборку в пропорции 80/20\n",
    "3. Составьте [`Pipeline`](http://scikit-learn.org/stable/modules/generated/sklearn.pipeline.Pipeline.html), состоящий из `CountVectorizer()` и SVM с линейным ядром\n",
    "4. Исследуйте, как влияют размер n-грамм и величина штрафа `C` на предсказательную силу модели. Мера качества - accuracy."
   ]
  },
  {
   "cell_type": "code",
   "execution_count": 66,
   "metadata": {
    "collapsed": true
   },
   "outputs": [],
   "source": [
    "RND_SEED = 123"
   ]
  },
  {
   "cell_type": "code",
   "execution_count": 70,
   "metadata": {
    "collapsed": false
   },
   "outputs": [],
   "source": [
    "from sklearn.model_selection import train_test_split\n",
    "X_train, X_test, y_train, y_test = train_test_split(df[\"word\"], df[\"label\"], test_size = 0.2, train_size = 0.8, random_state = RND_SEED)"
   ]
  },
  {
   "cell_type": "code",
   "execution_count": 77,
   "metadata": {
    "collapsed": true
   },
   "outputs": [],
   "source": [
    "from sklearn.pipeline import Pipeline\n",
    "from sklearn.feature_extraction.text import CountVectorizer\n",
    "from sklearn.svm import LinearSVC\n",
    "from sklearn.metrics import accuracy_score"
   ]
  },
  {
   "cell_type": "code",
   "execution_count": 175,
   "metadata": {
    "collapsed": true
   },
   "outputs": [],
   "source": [
    "C_array = np.logspace(-1,1,10)"
   ]
  },
  {
   "cell_type": "code",
   "execution_count": 182,
   "metadata": {
    "collapsed": false
   },
   "outputs": [
    {
     "name": "stdout",
     "output_type": "stream",
     "text": [
      "n-gram_range (1,2)\n",
      "accuracy score for c = 0.1 : 0.907496711968\n",
      "accuracy score for c = 0.16681005372 : 0.910565541429\n",
      "accuracy score for c = 0.278255940221 : 0.90705830776\n",
      "accuracy score for c = 0.464158883361 : 0.911880754055\n",
      "accuracy score for c = 0.774263682681 : 0.912319158264\n",
      "accuracy score for c = 1.29154966501 : 0.915387987725\n",
      "accuracy score for c = 2.15443469003 : 0.917580008768\n",
      "accuracy score for c = 3.5938136638 : 0.918456817185\n",
      "accuracy score for c = 5.99484250319 : 0.918456817185\n",
      "accuracy score for c = 10.0 : 0.917141604559\n",
      "n-gram_range (1,3)\n",
      "accuracy score for c = 0.1 : 0.940815431828\n",
      "accuracy score for c = 0.16681005372 : 0.944761069706\n",
      "accuracy score for c = 0.278255940221 : 0.945199473915\n",
      "accuracy score for c = 0.464158883361 : 0.94695309075\n",
      "accuracy score for c = 0.774263682681 : 0.947391494958\n",
      "accuracy score for c = 1.29154966501 : 0.946514686541\n",
      "accuracy score for c = 2.15443469003 : 0.943007452872\n",
      "accuracy score for c = 3.5938136638 : 0.942130644454\n",
      "accuracy score for c = 5.99484250319 : 0.942130644454\n",
      "accuracy score for c = 10.0 : 0.944322665498\n",
      "n-gram_range (1,4)\n",
      "accuracy score for c = 0.1 : 0.950460324419\n",
      "accuracy score for c = 0.16681005372 : 0.953090749671\n",
      "accuracy score for c = 0.278255940221 : 0.953967558089\n",
      "accuracy score for c = 0.464158883361 : 0.952213941254\n",
      "accuracy score for c = 0.774263682681 : 0.951775537045\n",
      "accuracy score for c = 1.29154966501 : 0.951337132836\n",
      "accuracy score for c = 2.15443469003 : 0.95002192021\n",
      "accuracy score for c = 3.5938136638 : 0.95002192021\n",
      "accuracy score for c = 5.99484250319 : 0.950460324419\n",
      "accuracy score for c = 10.0 : 0.951775537045\n",
      "n-gram_range (2,2)\n",
      "accuracy score for c = 0.1 : 0.901359053047\n",
      "accuracy score for c = 0.16681005372 : 0.903112669882\n",
      "accuracy score for c = 0.278255940221 : 0.901797457256\n",
      "accuracy score for c = 0.464158883361 : 0.904427882508\n",
      "accuracy score for c = 0.774263682681 : 0.903112669882\n",
      "accuracy score for c = 1.29154966501 : 0.902674265673\n",
      "accuracy score for c = 2.15443469003 : 0.902235861464\n",
      "accuracy score for c = 3.5938136638 : 0.901797457256\n",
      "accuracy score for c = 5.99484250319 : 0.901797457256\n",
      "accuracy score for c = 10.0 : 0.902235861464\n",
      "n-gram_range (2,3)\n",
      "accuracy score for c = 0.1 : 0.939938623411\n",
      "accuracy score for c = 0.16681005372 : 0.94344585708\n",
      "accuracy score for c = 0.278255940221 : 0.943007452872\n",
      "accuracy score for c = 0.464158883361 : 0.941692240246\n",
      "accuracy score for c = 0.774263682681 : 0.940377027619\n",
      "accuracy score for c = 1.29154966501 : 0.939938623411\n",
      "accuracy score for c = 2.15443469003 : 0.940377027619\n",
      "accuracy score for c = 3.5938136638 : 0.940377027619\n",
      "accuracy score for c = 5.99484250319 : 0.940377027619\n",
      "accuracy score for c = 10.0 : 0.940377027619\n",
      "n-gram_range (2,4)\n",
      "accuracy score for c = 0.1 : 0.947391494958\n",
      "accuracy score for c = 0.16681005372 : 0.95002192021\n",
      "accuracy score for c = 0.278255940221 : 0.951337132836\n",
      "accuracy score for c = 0.464158883361 : 0.95002192021\n",
      "accuracy score for c = 0.774263682681 : 0.95002192021\n",
      "accuracy score for c = 1.29154966501 : 0.949583516002\n",
      "accuracy score for c = 2.15443469003 : 0.948268303376\n",
      "accuracy score for c = 3.5938136638 : 0.94695309075\n",
      "accuracy score for c = 5.99484250319 : 0.946076282332\n",
      "accuracy score for c = 10.0 : 0.945199473915\n",
      "n-gram_range (3,3)\n",
      "accuracy score for c = 0.1 : 0.932047347655\n",
      "accuracy score for c = 0.16681005372 : 0.933800964489\n",
      "accuracy score for c = 0.278255940221 : 0.938185006576\n",
      "accuracy score for c = 0.464158883361 : 0.943007452872\n",
      "accuracy score for c = 0.774263682681 : 0.939938623411\n",
      "accuracy score for c = 1.29154966501 : 0.939938623411\n",
      "accuracy score for c = 2.15443469003 : 0.939938623411\n",
      "accuracy score for c = 3.5938136638 : 0.937746602367\n",
      "accuracy score for c = 5.99484250319 : 0.936431389741\n",
      "accuracy score for c = 10.0 : 0.935554581324\n",
      "n-gram_range (3,4)\n",
      "accuracy score for c = 0.1 : 0.940377027619\n",
      "accuracy score for c = 0.16681005372 : 0.942130644454\n",
      "accuracy score for c = 0.278255940221 : 0.944761069706\n",
      "accuracy score for c = 0.464158883361 : 0.945637878124\n",
      "accuracy score for c = 0.774263682681 : 0.945199473915\n",
      "accuracy score for c = 1.29154966501 : 0.945199473915\n",
      "accuracy score for c = 2.15443469003 : 0.945637878124\n",
      "accuracy score for c = 3.5938136638 : 0.944322665498\n",
      "accuracy score for c = 5.99484250319 : 0.94344585708\n",
      "accuracy score for c = 10.0 : 0.942569048663\n",
      "n-gram_range (4,4)\n",
      "accuracy score for c = 0.1 : 0.815870232354\n",
      "accuracy score for c = 0.16681005372 : 0.815870232354\n",
      "accuracy score for c = 0.278255940221 : 0.817623849189\n",
      "accuracy score for c = 0.464158883361 : 0.814993423937\n",
      "accuracy score for c = 0.774263682681 : 0.813239807102\n",
      "accuracy score for c = 1.29154966501 : 0.81411661552\n",
      "accuracy score for c = 2.15443469003 : 0.812801402893\n",
      "accuracy score for c = 3.5938136638 : 0.813239807102\n",
      "accuracy score for c = 5.99484250319 : 0.811924594476\n",
      "accuracy score for c = 10.0 : 0.811047786059\n"
     ]
    }
   ],
   "source": [
    "for (n_min,n_max) in [(1,2),(1,3),(1,4),(2,2),(2,3),(2,4),(3,3),(3,4),(4,4)]:\n",
    "    print(\"n-gram_range \" +\"(\" + str(n_min)+\",\"+ str(n_max)+ \")\")\n",
    "    for c in C_array:\n",
    "        # build the pipeline\n",
    "        ppl = Pipeline([\n",
    "              ('ngram', CountVectorizer(ngram_range=(n_min, n_max), analyzer='char')),\n",
    "              ('clf',   LinearSVC(C = c))\n",
    "          ])\n",
    "        # train the classifier\n",
    "        model = ppl.fit(X_train, y_train)\n",
    "        y_pred = model.predict(X_test)\n",
    "        print (\"accuracy score for c = \" + str(c)+\" : \" + str(accuracy_score(y_test, y_pred)))"
   ]
  },
  {
   "cell_type": "markdown",
   "metadata": {},
   "source": [
    "Вывод: самое лучшее accuracy для (1,4) n-грамм, в некоторых случаях увеличение С делает точность хуже, в некоторых наоборот, в некоторых нет зависимости, но С было в диапазоне np.logspace(-1,1,10) , если взять большее С, то может можно увидеть зависимость, но будет очень долго считать."
   ]
  },
  {
   "cell_type": "markdown",
   "metadata": {},
   "source": [
    "## Подход с пользовательским ядром\n",
    "### Подготовка данных (1 балла)\n",
    "\n",
    "Особенностью пользовательского ядра в sklean.SVC является то, что на вход оно может принимать на вход **только** вектора чисел.<br/>\n",
    "В нашем случае это будут индексы соответствующих слов из корпуса. То есть вместо вектора ['treat', 'celebrit', 'prince', ...] на вход в ядро подается вектор из индексов [9209, 11145, 7735, ...] с помощью которых вы будете находить сами слова.\n",
    "\n",
    "Прежде чем мы начнем строить ядро, надо подготовить данные. Для этого:\n",
    "1. Задайте переменную RND_SEED, которая будет использоваться в любых генераторах случайных чисел в вашем коде (обычно параметр \"random_seed\")\n",
    "2. Случайным образом перемешайте и заново проиндексируйте таблицу, полученную выше (используйте методы `df.sample()` и `df.reset_index()`)\n",
    "3. Ядро может вычисляться достаточно долго, поэтому можете урезать таблицу, но оставить в ней не менее 1000 слов.\n",
    "4. Разбейте данные на обучающую и контрольную выборку в пропорции 80/20\n",
    "\n",
    "В результате вы должны получить вектор-столбец `X_train`, `X_test` с **индексами** слов и векторы `y_train`, `y_test` с метками классов."
   ]
  },
  {
   "cell_type": "code",
   "execution_count": 90,
   "metadata": {
    "collapsed": false
   },
   "outputs": [],
   "source": [
    "RND_SEED = 123\n",
    "df1= df.sample(n=len(df), random_state=RND_SEED)"
   ]
  },
  {
   "cell_type": "code",
   "execution_count": 93,
   "metadata": {
    "collapsed": false
   },
   "outputs": [
    {
     "data": {
      "text/html": [
       "<div>\n",
       "<table border=\"1\" class=\"dataframe\">\n",
       "  <thead>\n",
       "    <tr style=\"text-align: right;\">\n",
       "      <th>index</th>\n",
       "      <th>word</th>\n",
       "      <th>label</th>\n",
       "    </tr>\n",
       "  </thead>\n",
       "  <tbody>\n",
       "    <tr>\n",
       "      <th>8872</th>\n",
       "      <td>how</td>\n",
       "      <td>0</td>\n",
       "    </tr>\n",
       "    <tr>\n",
       "      <th>8223</th>\n",
       "      <td>evening</td>\n",
       "      <td>0</td>\n",
       "    </tr>\n",
       "    <tr>\n",
       "      <th>4691</th>\n",
       "      <td>questo</td>\n",
       "      <td>1</td>\n",
       "    </tr>\n",
       "    <tr>\n",
       "      <th>1956</th>\n",
       "      <td>sua</td>\n",
       "      <td>1</td>\n",
       "    </tr>\n",
       "    <tr>\n",
       "      <th>9298</th>\n",
       "      <td>sound</td>\n",
       "      <td>0</td>\n",
       "    </tr>\n",
       "  </tbody>\n",
       "</table>\n",
       "</div>"
      ],
      "text/plain": [
       "index     word  label\n",
       "8872       how      0\n",
       "8223   evening      0\n",
       "4691    questo      1\n",
       "1956       sua      1\n",
       "9298     sound      0"
      ]
     },
     "execution_count": 93,
     "metadata": {},
     "output_type": "execute_result"
    }
   ],
   "source": [
    "df1.head()"
   ]
  },
  {
   "cell_type": "code",
   "execution_count": 97,
   "metadata": {
    "collapsed": false
   },
   "outputs": [
    {
     "data": {
      "text/html": [
       "<div>\n",
       "<table border=\"1\" class=\"dataframe\">\n",
       "  <thead>\n",
       "    <tr style=\"text-align: right;\">\n",
       "      <th>index</th>\n",
       "      <th>word</th>\n",
       "      <th>label</th>\n",
       "    </tr>\n",
       "  </thead>\n",
       "  <tbody>\n",
       "    <tr>\n",
       "      <th>0</th>\n",
       "      <td>how</td>\n",
       "      <td>0</td>\n",
       "    </tr>\n",
       "    <tr>\n",
       "      <th>1</th>\n",
       "      <td>evening</td>\n",
       "      <td>0</td>\n",
       "    </tr>\n",
       "    <tr>\n",
       "      <th>2</th>\n",
       "      <td>questo</td>\n",
       "      <td>1</td>\n",
       "    </tr>\n",
       "    <tr>\n",
       "      <th>3</th>\n",
       "      <td>sua</td>\n",
       "      <td>1</td>\n",
       "    </tr>\n",
       "    <tr>\n",
       "      <th>4</th>\n",
       "      <td>sound</td>\n",
       "      <td>0</td>\n",
       "    </tr>\n",
       "  </tbody>\n",
       "</table>\n",
       "</div>"
      ],
      "text/plain": [
       "index     word  label\n",
       "0          how      0\n",
       "1      evening      0\n",
       "2       questo      1\n",
       "3          sua      1\n",
       "4        sound      0"
      ]
     },
     "execution_count": 97,
     "metadata": {},
     "output_type": "execute_result"
    }
   ],
   "source": [
    "df1= df1.reset_index(drop=True)\n",
    "df1.head()"
   ]
  },
  {
   "cell_type": "code",
   "execution_count": 108,
   "metadata": {
    "collapsed": true
   },
   "outputs": [],
   "source": [
    "df1=df1[:3000]"
   ]
  },
  {
   "cell_type": "code",
   "execution_count": 112,
   "metadata": {
    "collapsed": false
   },
   "outputs": [],
   "source": [
    "X2_train, X2_test, y2_train, y2_test = train_test_split(df1.index.values, df1[\"label\"], test_size = 0.2, train_size = 0.8, random_state = RND_SEED)"
   ]
  },
  {
   "cell_type": "markdown",
   "metadata": {},
   "source": [
    "### Расчет ядра (2 балла)\n",
    "\n",
    "Теперь напишем собственное ядро для классификации строк. Для сравнения строк будем использовать [расстояние Левенштейна](https://ru.wikipedia.org/wiki/Расстояние_Левенштейна). Реализацию этого расстояния можно получить одним из двух способов:\n",
    "* скопировать функцию wfi_levenshtein из файла [pylev.py](https://github.com/toastdriven/pylev/blob/master/pylev.py)\n",
    "* поставить пакет [editdistance](https://pypi.python.org/pypi/editdistance) (будет работать быстрее, чем предыдущая реализация, но могут возникнуть проблемы с установкой)\n",
    "\n",
    "Ядро для сравнения строк должно принимать максимальное значение, когда слова одинаковы, и минимальное, когда очень отличаются. Это противоположно свойствам расстояния Левенштейна: оно равно 0, когда слова одинаковы, и максимально, когда слова разные. Поэтому подставьте значение расстояния Левенштейна в какое-нибудь ядро, зависящее от расстояния между объектами (например, гауссовское).\n",
    "\n",
    "Функция, реализующая расчет ядра должна принимать две матрицы $U$ и $V$ с признаковым описанием объектов (во время обучения они обе относятся к обучающей выборке, а во время применения - одна матрица относится к обучающей выборке, а другая к контрольной).\n",
    "Функция должна возвращать матрицу значений ядра для всех объектов попарно: $G_{ij} = K(U_i, V_j)$. Здесь $U_i$ — i-ый объект выборки $U$, а $V_j$ — j-ый объект выборки $V$.\n",
    "\n",
    "Сделайте следующее:\n",
    "1. Напишите функцию *string_kernel(U, V)*, расчитывающую матрицу ядра $G_{ij}$\n",
    "2. Визуализируйте матрицу только для тренировочной выборки (функция plt.imshow()).\n"
   ]
  },
  {
   "cell_type": "code",
   "execution_count": 211,
   "metadata": {
    "collapsed": true
   },
   "outputs": [],
   "source": [
    "def wfi_levenshtein(string_1, string_2):\n",
    "    \"\"\"\n",
    "    Calculates the Levenshtein distance between two strings.\n",
    "    This version uses an iterative version of the Wagner-Fischer algorithm.\n",
    "    Usage::\n",
    "        >>> wfi_levenshtein('kitten', 'sitting')\n",
    "        3\n",
    "        >>> wfi_levenshtein('kitten', 'kitten')\n",
    "        0\n",
    "        >>> wfi_levenshtein('', '')\n",
    "        0\n",
    "    \"\"\"\n",
    "    if string_1 == string_2:\n",
    "        return 0\n",
    "\n",
    "    len_1 = len(string_1)\n",
    "    len_2 = len(string_2)\n",
    "\n",
    "    if len_1 == 0:\n",
    "        return len_2\n",
    "    if len_2 == 0:\n",
    "        return len_1\n",
    "\n",
    "    if len_1 > len_2:\n",
    "        string_2, string_1 = string_1, string_2\n",
    "        len_2, len_1 = len_1, len_2\n",
    "\n",
    "    d0 = [i for i in range(len_2 + 1)]\n",
    "    d1 = [j for j in range(len_2 + 1)]\n",
    "\n",
    "    for i in range(len_1):\n",
    "        d1[0] = i + 1\n",
    "        for j in range(len_2):\n",
    "            cost = d0[j]\n",
    "\n",
    "            if string_1[i] != string_2[j]:\n",
    "                # substitution\n",
    "                cost += 1\n",
    "\n",
    "                # insertion\n",
    "                x_cost = d1[j] + 1\n",
    "                if x_cost < cost:\n",
    "                    cost = x_cost\n",
    "\n",
    "                # deletion\n",
    "                y_cost = d0[j + 1] + 1\n",
    "                if y_cost < cost:\n",
    "                    cost = y_cost\n",
    "\n",
    "            d1[j + 1] = cost\n",
    "\n",
    "        d0, d1 = d1, d0\n",
    "\n",
    "    return d0[-1]"
   ]
  },
  {
   "cell_type": "code",
   "execution_count": 215,
   "metadata": {
    "collapsed": false
   },
   "outputs": [
    {
     "name": "stdout",
     "output_type": "stream",
     "text": [
      "Collecting editdistance\n",
      "  Using cached editdistance-0.3.1.tar.gz\n",
      "Building wheels for collected packages: editdistance\n",
      "  Running setup.py bdist_wheel for editdistance: started\n",
      "  Running setup.py bdist_wheel for editdistance: finished with status 'done'\n",
      "  Stored in directory: C:\\Users\\AliceP\\AppData\\Local\\pip\\Cache\\wheels\\21\\8a\\17\\3504c6be142329daaa3f95684d1df4dde923c941dff68efc28\n",
      "Successfully built editdistance\n",
      "Installing collected packages: editdistance\n",
      "Successfully installed editdistance-0.3.1\n"
     ]
    }
   ],
   "source": [
    "!pip install editdistance"
   ]
  },
  {
   "cell_type": "code",
   "execution_count": null,
   "metadata": {
    "collapsed": true
   },
   "outputs": [],
   "source": []
  },
  {
   "cell_type": "markdown",
   "metadata": {},
   "source": [
    "### Оценка качества (1 балл)\n",
    "\n",
    "Обучите метод опорных векторов с различными значениями параметра штрафа $C$.<br/>\n",
    "Для каждого значения выведите accuracy на обучащей и контрольной выборке.\n",
    "\n",
    "Постарайтесь достичь качества в 70% на тестовой выборке. Для улучшения качества можно увеличить размер тренировочной выборки. Но тогда обучение будет происходить дольше."
   ]
  },
  {
   "cell_type": "code",
   "execution_count": null,
   "metadata": {
    "collapsed": true
   },
   "outputs": [],
   "source": []
  }
 ],
 "metadata": {
  "anaconda-cloud": {},
  "kernelspec": {
   "display_name": "Python [Root]",
   "language": "python",
   "name": "Python [Root]"
  },
  "language_info": {
   "codemirror_mode": {
    "name": "ipython",
    "version": 2
   },
   "file_extension": ".py",
   "mimetype": "text/x-python",
   "name": "python",
   "nbconvert_exporter": "python",
   "pygments_lexer": "ipython2",
   "version": "2.7.13"
  },
  "nav_menu": {},
  "toc": {
   "colors": {
    "hover_highlight": "#DAA520",
    "navigate_num": "#000000",
    "navigate_text": "#333333",
    "running_highlight": "#FF0000",
    "selected_highlight": "#FFD700",
    "sidebar_border": "#EEEEEE",
    "wrapper_background": "#FFFFFF"
   },
   "moveMenuLeft": true,
   "nav_menu": {
    "height": "217px",
    "width": "253px"
   },
   "navigate_menu": true,
   "number_sections": false,
   "sideBar": true,
   "threshold": 4,
   "toc_cell": false,
   "toc_section_display": "block",
   "toc_window_display": true,
   "widenNotebook": false
  }
 },
 "nbformat": 4,
 "nbformat_minor": 1
}
