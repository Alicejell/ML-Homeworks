{
 "cells": [
  {
   "cell_type": "markdown",
   "metadata": {},
   "source": [
    "## Рекомендательные системы: предсказание оценки"
   ]
  },
  {
   "cell_type": "markdown",
   "metadata": {},
   "source": [
    "### Пономаревой Алисы ИАД-2"
   ]
  },
  {
   "cell_type": "markdown",
   "metadata": {},
   "source": [
    "Рассмотрим задачу предсказания оценки, которую пользователь поставит фильму. Особенность этой задачи в том, что объекты выборки описываются категориальными признаками, принимающими большое число значений (например: идентификатор пользователя, идентификатор фильма, тэги, киноперсоны).\n",
    "\n",
    "Данные: [MovieLens + IMDb/Rotten Tomatoes](http://files.grouplens.org/datasets/hetrec2011/hetrec2011-movielens-2k-v2.zip) ([описание](http://files.grouplens.org/datasets/hetrec2011/hetrec2011-movielens-readme.txt)). Набор содержит данные о предпочтениях пользователей сервиса рекомендации кинофильмов [MovieLens](http://www.movielens.org/). Пользовательские оценки для фильмов принимают значения в интервале от 0.5 до 5.0, они записаны в файле *user_ratedmovies.dat* (а также в *user_ratedmovies-timestamps.dat*,  где для каждой оценки записана дата и время в формате timestamp), остальные файлы содержат дополнительную информацию о фильмах, которую можно использовать как признаки. Заметьте: кроме оценок (и тегов), про пользователя ничего не известно.\n",
    "\n",
    "Задача: построить модель, предсказывающую оценку пользователя фильму, который он еще не смотрел.\n",
    "\n",
    "Метрика качества: будем считать, что пользователю сервиса доступен блок рекомендаций, который может содержать рекомендации не более чем 5 фильмов.\n",
    "Выберем некоторого пользователя $u$ и обозначим известные для него рейтинги за $R^u$. В качестве тестовых рейтингов $R^u_{test}$ для этого пользователя рассмотрим 5 рейтингов, поставленные последними по времени, в качестве валидационных $R^u_{val}$ — предпоследние 5 рейтингов. Остальные известные рейтинги этого пользователя будут составлять обучающую выборку $R^u_{train}$.\n",
    "Для подбора гиперпараметров в рамках данного задания будем использовать валидационную выборку, предварительно обучив модель на обучающей выборке, а для финальной оценки качества — тестовую выборку, предварительно обучив модель на обучающей и валидационной выборках."
   ]
  },
  {
   "cell_type": "markdown",
   "metadata": {},
   "source": [
    "**1. (1 балл)** Загрузите данные и сформируйте 3 разреженные матрицы пользователи—фильмы для обучающих, валидационных и тестовых рейтингов пользователей соответственно, где в каждой ячейке стоит рейтинг, если он известен, или ноль, если неизвестен."
   ]
  },
  {
   "cell_type": "code",
   "execution_count": 4,
   "metadata": {},
   "outputs": [],
   "source": [
    "import numpy as np\n",
    "import pandas as pd\n",
    "from scipy import sparse\n",
    "from collections import Counter\n",
    "import matplotlib.pyplot as plt\n",
    "%matplotlib inline"
   ]
  },
  {
   "cell_type": "code",
   "execution_count": 156,
   "metadata": {},
   "outputs": [],
   "source": [
    "user_rate = pd.read_csv('user_ratedmovies-timestamps.dat', sep='\\t')"
   ]
  },
  {
   "cell_type": "code",
   "execution_count": 157,
   "metadata": {},
   "outputs": [
    {
     "data": {
      "text/html": [
       "<div>\n",
       "<style scoped>\n",
       "    .dataframe tbody tr th:only-of-type {\n",
       "        vertical-align: middle;\n",
       "    }\n",
       "\n",
       "    .dataframe tbody tr th {\n",
       "        vertical-align: top;\n",
       "    }\n",
       "\n",
       "    .dataframe thead th {\n",
       "        text-align: right;\n",
       "    }\n",
       "</style>\n",
       "<table border=\"1\" class=\"dataframe\">\n",
       "  <thead>\n",
       "    <tr style=\"text-align: right;\">\n",
       "      <th></th>\n",
       "      <th>userID</th>\n",
       "      <th>movieID</th>\n",
       "      <th>rating</th>\n",
       "      <th>timestamp</th>\n",
       "    </tr>\n",
       "  </thead>\n",
       "  <tbody>\n",
       "    <tr>\n",
       "      <th>0</th>\n",
       "      <td>75</td>\n",
       "      <td>3</td>\n",
       "      <td>1.0</td>\n",
       "      <td>1162160236000</td>\n",
       "    </tr>\n",
       "    <tr>\n",
       "      <th>1</th>\n",
       "      <td>75</td>\n",
       "      <td>32</td>\n",
       "      <td>4.5</td>\n",
       "      <td>1162160624000</td>\n",
       "    </tr>\n",
       "    <tr>\n",
       "      <th>2</th>\n",
       "      <td>75</td>\n",
       "      <td>110</td>\n",
       "      <td>4.0</td>\n",
       "      <td>1162161008000</td>\n",
       "    </tr>\n",
       "    <tr>\n",
       "      <th>3</th>\n",
       "      <td>75</td>\n",
       "      <td>160</td>\n",
       "      <td>2.0</td>\n",
       "      <td>1162160212000</td>\n",
       "    </tr>\n",
       "    <tr>\n",
       "      <th>4</th>\n",
       "      <td>75</td>\n",
       "      <td>163</td>\n",
       "      <td>4.0</td>\n",
       "      <td>1162160970000</td>\n",
       "    </tr>\n",
       "  </tbody>\n",
       "</table>\n",
       "</div>"
      ],
      "text/plain": [
       "   userID  movieID  rating      timestamp\n",
       "0      75        3     1.0  1162160236000\n",
       "1      75       32     4.5  1162160624000\n",
       "2      75      110     4.0  1162161008000\n",
       "3      75      160     2.0  1162160212000\n",
       "4      75      163     4.0  1162160970000"
      ]
     },
     "execution_count": 157,
     "metadata": {},
     "output_type": "execute_result"
    }
   ],
   "source": [
    "user_rate.head()"
   ]
  },
  {
   "cell_type": "code",
   "execution_count": 158,
   "metadata": {},
   "outputs": [],
   "source": [
    "# YOUR CODE IS HERE"
   ]
  },
  {
   "cell_type": "code",
   "execution_count": 159,
   "metadata": {},
   "outputs": [],
   "source": [
    "uid = user_rate['userID'].unique()\n",
    "fid = user_rate['movieID'].unique()\n",
    " \n",
    "z_id = lambda uid: dict(zip(uid,np.arange(uid.shape[0])))"
   ]
  },
  {
   "cell_type": "code",
   "execution_count": 160,
   "metadata": {},
   "outputs": [],
   "source": [
    "users_dict = z_id(uid)\n",
    "movies_dict = z_id(fid)"
   ]
  },
  {
   "cell_type": "code",
   "execution_count": 161,
   "metadata": {},
   "outputs": [],
   "source": [
    "user_rate['userID'] = user_rate['userID'].map(users_dict)\n",
    "user_rate['movieID'] = user_rate['movieID'].map(movies_dict)\n",
    "user_rate.sort_values(['userID','timestamp'],ascending = [True, False],inplace = True)"
   ]
  },
  {
   "cell_type": "code",
   "execution_count": 162,
   "metadata": {},
   "outputs": [],
   "source": [
    "test=pd.DataFrame(columns=list(user_rate.columns) )\n",
    "val=pd.DataFrame(columns=list(user_rate.columns))\n",
    "train=pd.DataFrame(columns=list(user_rate.columns))"
   ]
  },
  {
   "cell_type": "code",
   "execution_count": 163,
   "metadata": {},
   "outputs": [],
   "source": [
    "for user in np.unique(user_rate.userID):\n",
    "    current = user_rate[user_rate.userID == user]\n",
    "    \n",
    "    if len(current.movieID) > 5:\n",
    "        test = test.append(current[:5])\n",
    "    if len(current.movieID) - 5 > 5:\n",
    "        val = val.append(current[5:10])\n",
    "    if len(current.movieID) - 10 > 0:\n",
    "        train = train.append(current[10:])"
   ]
  },
  {
   "cell_type": "code",
   "execution_count": 164,
   "metadata": {},
   "outputs": [
    {
     "data": {
      "text/html": [
       "<div>\n",
       "<style scoped>\n",
       "    .dataframe tbody tr th:only-of-type {\n",
       "        vertical-align: middle;\n",
       "    }\n",
       "\n",
       "    .dataframe tbody tr th {\n",
       "        vertical-align: top;\n",
       "    }\n",
       "\n",
       "    .dataframe thead th {\n",
       "        text-align: right;\n",
       "    }\n",
       "</style>\n",
       "<table border=\"1\" class=\"dataframe\">\n",
       "  <thead>\n",
       "    <tr style=\"text-align: right;\">\n",
       "      <th></th>\n",
       "      <th>userID</th>\n",
       "      <th>movieID</th>\n",
       "      <th>rating</th>\n",
       "      <th>timestamp</th>\n",
       "    </tr>\n",
       "  </thead>\n",
       "  <tbody>\n",
       "    <tr>\n",
       "      <th>4</th>\n",
       "      <td>0</td>\n",
       "      <td>4</td>\n",
       "      <td>4.0</td>\n",
       "      <td>1162160970000</td>\n",
       "    </tr>\n",
       "    <tr>\n",
       "      <th>27</th>\n",
       "      <td>0</td>\n",
       "      <td>27</td>\n",
       "      <td>4.0</td>\n",
       "      <td>1162160965000</td>\n",
       "    </tr>\n",
       "    <tr>\n",
       "      <th>36</th>\n",
       "      <td>0</td>\n",
       "      <td>36</td>\n",
       "      <td>3.0</td>\n",
       "      <td>1162160956000</td>\n",
       "    </tr>\n",
       "    <tr>\n",
       "      <th>17</th>\n",
       "      <td>0</td>\n",
       "      <td>17</td>\n",
       "      <td>4.5</td>\n",
       "      <td>1162160936000</td>\n",
       "    </tr>\n",
       "    <tr>\n",
       "      <th>16</th>\n",
       "      <td>0</td>\n",
       "      <td>16</td>\n",
       "      <td>3.5</td>\n",
       "      <td>1162160932000</td>\n",
       "    </tr>\n",
       "  </tbody>\n",
       "</table>\n",
       "</div>"
      ],
      "text/plain": [
       "   userID movieID  rating      timestamp\n",
       "4       0       4     4.0  1162160970000\n",
       "27      0      27     4.0  1162160965000\n",
       "36      0      36     3.0  1162160956000\n",
       "17      0      17     4.5  1162160936000\n",
       "16      0      16     3.5  1162160932000"
      ]
     },
     "execution_count": 164,
     "metadata": {},
     "output_type": "execute_result"
    }
   ],
   "source": [
    "train.head()"
   ]
  },
  {
   "cell_type": "code",
   "execution_count": 165,
   "metadata": {},
   "outputs": [],
   "source": [
    "train_mat = sparse.csr_matrix((train['rating'],(train['userID'],train['movieID'])),(uid.shape[0],fid.shape[0]))"
   ]
  },
  {
   "cell_type": "code",
   "execution_count": 166,
   "metadata": {},
   "outputs": [],
   "source": [
    "val_mat = sparse.csr_matrix((val['rating'],(val['userID'],val['movieID'])),(uid.shape[0],fid.shape[0]))"
   ]
  },
  {
   "cell_type": "code",
   "execution_count": 167,
   "metadata": {},
   "outputs": [],
   "source": [
    "test_mat = sparse.csr_matrix((test['rating'],(test['userID'],test['movieID'])),(uid.shape[0],fid.shape[0]))"
   ]
  },
  {
   "cell_type": "code",
   "execution_count": 168,
   "metadata": {},
   "outputs": [
    {
     "data": {
      "text/plain": [
       "(2113, 10109)"
      ]
     },
     "execution_count": 168,
     "metadata": {},
     "output_type": "execute_result"
    }
   ],
   "source": [
    "train_mat.shape"
   ]
  },
  {
   "cell_type": "code",
   "execution_count": 169,
   "metadata": {},
   "outputs": [
    {
     "data": {
      "text/plain": [
       "(2113, 10109)"
      ]
     },
     "execution_count": 169,
     "metadata": {},
     "output_type": "execute_result"
    }
   ],
   "source": [
    "val_mat.shape"
   ]
  },
  {
   "cell_type": "code",
   "execution_count": 170,
   "metadata": {},
   "outputs": [
    {
     "data": {
      "text/plain": [
       "(2113, 10109)"
      ]
     },
     "execution_count": 170,
     "metadata": {},
     "output_type": "execute_result"
    }
   ],
   "source": [
    "test_mat.shape"
   ]
  },
  {
   "cell_type": "markdown",
   "metadata": {},
   "source": [
    "Качество рекомендаций: будем использовать метрики RMSE@k и nDCG@k для $k=5$, описанные ниже.\n",
    "\n",
    "#### RMSE@k\n",
    "\n",
    "Поскольку нас интересуют лишь фильмы, попавшие в блок рекомендаций, качество работы модели можно оценивать при помощи RMSE на $k$ фильмах с наибольшим предсказанным рейтингом, где $k$ — размер блока рекомендаций. Отсортируем предсказанные моделью рейтинги $\\hat{r}_{ui}$ в порядке убывания и обозначим $i$-ый элемент в полученной последовательности за $\\hat{r}_{u(i)},$ а соответствующее этому фильму истинное значение рейтинга — за $r_{u(i)}$. Тогда RMSE@k:\n",
    "\n",
    "$$ \\text{RMSE@k}(u) = \\sqrt{ \\frac{1}{k} \\sum_{i=1}^k (r_{u(i)} - \\hat{r}_{u(i)})^2 },$$\n",
    "$$ \\text{RMSE@k} = \\frac{1}{|U|} \\sum_{u \\in U} \\text{RMSE@k}(u),$$\n",
    "где $U$ — множество пользователей. При вычислении данной метрики все неизвестные оценки будем полагать равными 0.\n",
    "\n",
    "#### nDCG@k\n",
    "\n",
    "Также можно использовать метрику качества ранжирования. Для этого для каждого пользователя $u$ предскажем оценку для всех фильмов из $R^u_{test}$ и отсортируем эти фильмы по убыванию предсказанного рейтинга. Ожидается, что хороший алгоритм должен выдать релевантные фильмы вверху списка. Отсортируем предсказанные моделью рейтинги $\\hat{r}_{ui}$ в порядке убывания и обозначим $i$-ый элемент в полученной последовательности за $\\hat{r}_{u(i)},$ а соответствующее этому фильму истинное значение рейтинга — за $r_{u(i)}.$\n",
    "\n",
    "Тогда nDCG@k :\n",
    "\n",
    "$$\\text{DCG@k}(u) = \\sum_{i=1}^k g(r_{u(i)}) d(i),$$\n",
    "$$\\text{nDCG@k}(u) = \\frac{\\text{DCG@k}(u)}{\\max \\text{DCG@k}(u)},$$\n",
    "$$\\text{nDCG@k} = \\frac{1}{|U|} \\sum_{u \\in U} \\text{nDCG@k}(u),$$\n",
    "где $g(r)$ — функция полезности фильма, а  $d(i)$ — штраф за позицию.\n",
    "\n",
    "Положим $g(r) = 2^r-1, \\, d(i) = \\frac{1}{\\log_2 (i+1)}.$ При вычислении данной метрики все неизвестные оценки будем полагать равными 0."
   ]
  },
  {
   "cell_type": "markdown",
   "metadata": {},
   "source": [
    "**2. (2 балла)** Реализуйте функции rmse_score и ndcg_score, вычисляющие значения описанных выше метрик. Каждая из функций в качестве параметров должна принимать:\n",
    " * y_true — матрицу тестовых рейтингов (сформированную аналогично матрице тестовых рейтингов из предыдущего пункта; функция должна корректно работать и для разреженных, и для плотных матриц);\n",
    " * y_predicted — матрицу предсказаний модели в аналогичном формате (функция должна корректно работать и для разреженных, и для плотных матриц);\n",
    " * k — параметр $k$ в определениях метрик."
   ]
  },
  {
   "cell_type": "code",
   "execution_count": 200,
   "metadata": {},
   "outputs": [],
   "source": [
    "def rmse_score(y_true, y_predicted, k=5):\n",
    "    if type(y_true) == sparse.csr.csr_matrix:\n",
    "        y_true_ = y_true.toarray()\n",
    "    else:\n",
    "        y_true_ = y_true\n",
    "    if type(y_predicted) == sparse.csr.csr_matrix:\n",
    "        y_predicted_ = y_predicted.toarray()\n",
    "    else:\n",
    "        y_predicted_ = y_predicted\n",
    "\n",
    "    # YOUR CODE IS HERE\n",
    "    rmse = 0\n",
    "    for i, u in enumerate(y_predicted_):\n",
    "        arg_sort_arr = np.argsort(-u)\n",
    "        rmse += np.sqrt((1/k)*np.sum((u[arg_sort_arr[:k]] - y_true_[i, arg_sort_arr[:k]])**2))\n",
    "    return rmse/y_true.shape[0]\n",
    "\n",
    "def ndcg_score(y_true, y_predicted, k=5):\n",
    "    if type(y_true) == sparse.csr.csr_matrix:\n",
    "        y_true_ = y_true.toarray()\n",
    "    else:\n",
    "        y_true_ = y_true\n",
    "    if type(y_predicted) == sparse.csr.csr_matrix:\n",
    "        y_predicted_ = y_predicted.toarray()\n",
    "    else:\n",
    "        y_predicted_ = y_predicted\n",
    "\n",
    "    # YOUR CODE IS HERE\n",
    "    ndcg = []\n",
    "    d_i= 1/np.log2(np.array(range(1,k+1))+2)\n",
    "    for i, u in enumerate(y_true_):\n",
    "        arg_sort_arr = np.argsort(-y_predicted_[i])\n",
    "        dcg = sum((2**u[arg_sort_arr][:k] - 1)*d_i)\n",
    "        arg_sort_arr = np.argsort(-y_true_[i])\n",
    "        maxdcg = sum((2**u[arg_sort_arr][:k] - 1)*d_i)\n",
    "        ndcg.append(dcg/maxdcg)\n",
    "    return sum(ndcg)/y_true.shape[0]"
   ]
  },
  {
   "cell_type": "markdown",
   "metadata": {},
   "source": [
    "**3. (1 балл)** Постройте рекомендации на основе **most popular** метода, при котором предсказанный рейтинг для некоторого фильма $i$ одинаков для всех пользователей и совпадает со средним значением рейтинга по всем пользователям, оценившим этот фильм, и вычислите значения метрик RMSE@5 и nDCG@5 для тестовой матрицы из п. 1."
   ]
  },
  {
   "cell_type": "code",
   "execution_count": 214,
   "metadata": {},
   "outputs": [],
   "source": [
    "most_pop = np.zeros((test_mat.shape[0], test_mat.shape[1]))\n",
    "\n",
    "# YOUR CODE IS HERE"
   ]
  },
  {
   "cell_type": "code",
   "execution_count": 208,
   "metadata": {},
   "outputs": [
    {
     "data": {
      "text/plain": [
       "2113"
      ]
     },
     "execution_count": 208,
     "metadata": {},
     "output_type": "execute_result"
    }
   ],
   "source": [
    "test_mat.shape[0]"
   ]
  },
  {
   "cell_type": "code",
   "execution_count": 209,
   "metadata": {},
   "outputs": [
    {
     "data": {
      "text/plain": [
       "10109"
      ]
     },
     "execution_count": 209,
     "metadata": {},
     "output_type": "execute_result"
    }
   ],
   "source": [
    "test_mat.shape[1]"
   ]
  },
  {
   "cell_type": "code",
   "execution_count": 213,
   "metadata": {},
   "outputs": [],
   "source": [
    "all_mat = train_mat+val_mat"
   ]
  },
  {
   "cell_type": "code",
   "execution_count": 215,
   "metadata": {},
   "outputs": [],
   "source": [
    "for i in range(most_pop.shape[1]):\n",
    "    if (all_mat[:, i].count_nonzero()!=0):\n",
    "        most_pop[:, i] = sum(all_mat[:, i].toarray())[0]/(all_mat[:, i].count_nonzero())\n",
    "    else:\n",
    "        most_pop[:, i] = 0"
   ]
  },
  {
   "cell_type": "code",
   "execution_count": 216,
   "metadata": {},
   "outputs": [
    {
     "data": {
      "text/plain": [
       "array([[2.8685259 , 4.00870322, 3.84346754, ..., 1.5       , 2.5       ,\n",
       "        3.        ],\n",
       "       [2.8685259 , 4.00870322, 3.84346754, ..., 1.5       , 2.5       ,\n",
       "        3.        ],\n",
       "       [2.8685259 , 4.00870322, 3.84346754, ..., 1.5       , 2.5       ,\n",
       "        3.        ],\n",
       "       ...,\n",
       "       [2.8685259 , 4.00870322, 3.84346754, ..., 1.5       , 2.5       ,\n",
       "        3.        ],\n",
       "       [2.8685259 , 4.00870322, 3.84346754, ..., 1.5       , 2.5       ,\n",
       "        3.        ],\n",
       "       [2.8685259 , 4.00870322, 3.84346754, ..., 1.5       , 2.5       ,\n",
       "        3.        ]])"
      ]
     },
     "execution_count": 216,
     "metadata": {},
     "output_type": "execute_result"
    }
   ],
   "source": [
    "most_pop"
   ]
  },
  {
   "cell_type": "code",
   "execution_count": 217,
   "metadata": {},
   "outputs": [
    {
     "data": {
      "text/plain": [
       "4.999544923963958"
      ]
     },
     "execution_count": 217,
     "metadata": {},
     "output_type": "execute_result"
    }
   ],
   "source": [
    "rmse_score(test_mat, most_pop, k=5)"
   ]
  },
  {
   "cell_type": "code",
   "execution_count": 218,
   "metadata": {},
   "outputs": [
    {
     "data": {
      "text/plain": [
       "0.00012281961700207926"
      ]
     },
     "execution_count": 218,
     "metadata": {},
     "output_type": "execute_result"
    }
   ],
   "source": [
    "ndcg_score(test_mat, most_pop, k=5)"
   ]
  },
  {
   "cell_type": "markdown",
   "metadata": {},
   "source": [
    "**4. (1 балл)** Реализуйте построение рекомендаций путём разложения матрицы рейтингов с помощью [разреженного SVD](http://scikit-learn.org/stable/modules/generated/sklearn.decomposition.TruncatedSVD.html) (в предположении, что неизвестные рейтинги заменяются на нули) и последующего её восстановления и постройте график зависимости метрик RMSE@5 и nDCG@5 от значения ранга разложения на валидационной выборке (рассмотрите как минимум 10 различных значений ранга разложения)"
   ]
  },
  {
   "cell_type": "code",
   "execution_count": 195,
   "metadata": {},
   "outputs": [],
   "source": [
    "from sklearn.decomposition import TruncatedSVD"
   ]
  },
  {
   "cell_type": "code",
   "execution_count": 196,
   "metadata": {},
   "outputs": [
    {
     "name": "stdout",
     "output_type": "stream",
     "text": [
      "rank 10\n",
      "rmse 3.4245147872730097\n",
      "ndcg 0.011057531536708697\n",
      "rank 20\n",
      "rmse 3.732013889757425\n",
      "ndcg 0.010179044698457478\n",
      "rank 30\n",
      "rmse 3.873299826503154\n",
      "ndcg 0.0085385813707049\n",
      "rank 40\n",
      "rmse 3.9892714618536673\n",
      "ndcg 0.008480099730905407\n",
      "rank 50\n",
      "rmse 4.087322815154796\n",
      "ndcg 0.006456700937414107\n",
      "rank 60\n",
      "rmse 4.158692344791574\n",
      "ndcg 0.005873053073943309\n",
      "rank 70\n",
      "rmse 4.207346279519091\n",
      "ndcg 0.0053308191103538715\n",
      "rank 80\n",
      "rmse 4.26311333275177\n",
      "ndcg 0.004771201228575951\n",
      "rank 90\n",
      "rmse 4.31110320855628\n",
      "ndcg 0.004142404905779462\n",
      "rank 100\n",
      "rmse 4.347709972976367\n",
      "ndcg 0.003624806427427621\n"
     ]
    }
   ],
   "source": [
    "#из семинара\n",
    "ranks = np.arange(10, 110, 10)\n",
    "\n",
    "rmse_vals = []\n",
    "ndcge_vals = []\n",
    "\n",
    "for r in np.arange(10, 110, 10):\n",
    "    print('rank', r)\n",
    "    # YOUR CODE IS HERE\n",
    "    svd = TruncatedSVD(n_components=r, random_state=42)\n",
    "    t = svd.fit_transform(train_mat)\n",
    "    pred = svd.inverse_transform(t)\n",
    "    cur_rmse = rmse_score(val_mat, pred)\n",
    "    cur_ndcg = ndcg_score(val_mat, pred)\n",
    "    rmse_vals.append(cur_rmse)\n",
    "    ndcge_vals.append(cur_ndcg)\n",
    "    print('rmse', cur_rmse)\n",
    "    print('ndcg', cur_ndcg)"
   ]
  },
  {
   "cell_type": "code",
   "execution_count": 197,
   "metadata": {},
   "outputs": [
    {
     "data": {
      "text/plain": [
       "Text(0.5,0,'rank')"
      ]
     },
     "execution_count": 197,
     "metadata": {},
     "output_type": "execute_result"
    },
    {
     "data": {
      "image/png": "[encoded data removed]",
      "text/plain": [
       "<matplotlib.figure.Figure at 0x54200ba8>"
      ]
     },
     "metadata": {},
     "output_type": "display_data"
    }
   ],
   "source": [
    "#из семинара\n",
    "fig, (ax1, ax2) = plt.subplots(1, 2, figsize=(12, 4))\n",
    "args = np.arange(10, 110, 10)\n",
    "\n",
    "fig.suptitle('Truncated SVD', fontweight='bold')\n",
    "ax1.plot(args, rmse_vals)\n",
    "ax2.plot(args, ndcge_vals)\n",
    "ax1.set_title('RMSE')\n",
    "ax2.set_title('nDCG')\n",
    "ax1.set_xlabel('rank')\n",
    "ax2.set_xlabel('rank')"
   ]
  },
  {
   "cell_type": "markdown",
   "metadata": {
    "collapsed": true
   },
   "source": [
    "**5. (3 балла)** Постройте рекомендации на основе user-based коллаборативной фильтрации. \n",
    "Предсказание модели $\\hat{r}_{ui}$ вычисляйте по следующей формуле:\n",
    "$$\\hat{r}_{ui} = \\bar{r}_{u} + \\frac{\\sum_{v \\in U(u)} w_{uv} (r_{vi} - \\bar{r}_v)}{\\sum_{v \\in U(u)} w_{uv}},$$\n",
    "где $\\bar{r}_u$ — средний ретинг пользователя $u$, $w_{uv}$ — мера сходства пользователей $u$ и $v$, $U(u) = \\{ v \\in U \\, | \\, w_{uv} > \\alpha\\}$ — коллаборация пользователя $u$. \n",
    "\n",
    "Значение параметра $\\alpha$ возьмите равным 0.9.\n",
    "\n",
    "Вычислите значения метрик RMSE@5 и nDCG@5 на тестовой выборке."
   ]
  },
  {
   "cell_type": "code",
   "execution_count": null,
   "metadata": {},
   "outputs": [],
   "source": [
    "from tqdm import tqdm, tqdm_notebook\n",
    "import sklearn.preprocessing as pp"
   ]
  },
  {
   "cell_type": "code",
   "execution_count": 293,
   "metadata": {},
   "outputs": [],
   "source": [
    "def pirson(u,v):\n",
    "    inds = list(set(u.nonzero()[0])& set(v.nonzero()[0]))\n",
    "    if len(inds)>0:\n",
    "        if len(inds)!=1:\n",
    "            shum = np.random.random(len(inds))/10000\n",
    "            result = np.corrcoef(u[inds]+shum,v[inds]+shum)[0,1]\n",
    "        else:\n",
    "            result = -1\n",
    "    else:\n",
    "        result = -1\n",
    "    return result"
   ]
  },
  {
   "cell_type": "code",
   "execution_count": 306,
   "metadata": {},
   "outputs": [],
   "source": [
    "def user_based(train, alpha = 0.9):\n",
    "    data = train.toarray()\n",
    "    result = []\n",
    "    for i,r_u in enumerate(data):\n",
    "        if (i%(uid.shape[0]//100)==0):\n",
    "            print(i//(uid.shape[0]//100),\"%\")\n",
    "        temp = []\n",
    "        ws = []\n",
    "        for j,r_v in enumerate(data):\n",
    "            if (i!=j):\n",
    "                w_uv = pirson(r_u,r_v)\n",
    "                if (w_uv>alpha):\n",
    "                    ws.append(w_uv)\n",
    "                    temp.append(r_v-np.mean(r_v))\n",
    "        ws = np.array(ws)\n",
    "        temp = np.array(temp)\n",
    "        res = np.zeros((data.shape[1],))+np.mean(r_u)\n",
    "        if (sum(ws) != 0):\n",
    "            res += sum(ws.reshape(-1,1)*temp)/sum(ws)\n",
    "        result.append(res)\n",
    "    return result"
   ]
  },
  {
   "cell_type": "code",
   "execution_count": 307,
   "metadata": {},
   "outputs": [
    {
     "name": "stdout",
     "output_type": "stream",
     "text": [
      "0 %\n",
      "1 %\n",
      "2 %\n",
      "3 %\n",
      "4 %\n",
      "5 %\n",
      "6 %\n",
      "7 %\n",
      "8 %\n",
      "9 %\n",
      "10 %\n",
      "11 %\n",
      "12 %\n",
      "13 %\n",
      "14 %\n",
      "15 %\n",
      "16 %\n",
      "17 %\n",
      "18 %\n",
      "19 %\n",
      "20 %\n",
      "21 %\n",
      "22 %\n",
      "23 %\n",
      "24 %\n",
      "25 %\n",
      "26 %\n",
      "27 %\n",
      "28 %\n",
      "29 %\n",
      "30 %\n",
      "31 %\n",
      "32 %\n",
      "33 %\n",
      "34 %\n",
      "35 %\n",
      "36 %\n",
      "37 %\n",
      "38 %\n",
      "39 %\n",
      "40 %\n",
      "41 %\n",
      "42 %\n",
      "43 %\n",
      "44 %\n",
      "45 %\n",
      "46 %\n",
      "47 %\n",
      "48 %\n",
      "49 %\n",
      "50 %\n",
      "51 %\n",
      "52 %\n",
      "53 %\n",
      "54 %\n",
      "55 %\n",
      "56 %\n",
      "57 %\n",
      "58 %\n",
      "59 %\n",
      "60 %\n",
      "61 %\n",
      "62 %\n",
      "63 %\n",
      "64 %\n",
      "65 %\n",
      "66 %\n",
      "67 %\n",
      "68 %\n",
      "69 %\n",
      "70 %\n",
      "71 %\n",
      "72 %\n",
      "73 %\n",
      "74 %\n",
      "75 %\n",
      "76 %\n",
      "77 %\n",
      "78 %\n",
      "79 %\n",
      "80 %\n",
      "81 %\n",
      "82 %\n",
      "83 %\n",
      "84 %\n",
      "85 %\n",
      "86 %\n",
      "87 %\n",
      "88 %\n",
      "89 %\n",
      "90 %\n",
      "91 %\n",
      "92 %\n",
      "93 %\n",
      "94 %\n",
      "95 %\n",
      "96 %\n",
      "97 %\n",
      "98 %\n",
      "99 %\n",
      "100 %\n"
     ]
    }
   ],
   "source": [
    "kol_fil = user_based(train_mat)"
   ]
  },
  {
   "cell_type": "code",
   "execution_count": 309,
   "metadata": {},
   "outputs": [],
   "source": [
    "kol_fil_mat = np.array(kol_fil)"
   ]
  },
  {
   "cell_type": "code",
   "execution_count": 310,
   "metadata": {},
   "outputs": [
    {
     "data": {
      "text/plain": [
       "(2113, 10109)"
      ]
     },
     "execution_count": 310,
     "metadata": {},
     "output_type": "execute_result"
    }
   ],
   "source": [
    "kol_fil_mat.shape"
   ]
  },
  {
   "cell_type": "code",
   "execution_count": 312,
   "metadata": {},
   "outputs": [
    {
     "data": {
      "text/plain": [
       "1.2200688479229762"
      ]
     },
     "execution_count": 312,
     "metadata": {},
     "output_type": "execute_result"
    }
   ],
   "source": [
    "rmse_score(test_mat, kol_fil_mat , k=5)"
   ]
  },
  {
   "cell_type": "code",
   "execution_count": 313,
   "metadata": {},
   "outputs": [
    {
     "data": {
      "text/plain": [
       "0.011703849422385166"
      ]
     },
     "execution_count": 313,
     "metadata": {},
     "output_type": "execute_result"
    }
   ],
   "source": [
    "ndcg_score(test_mat, kol_fil_mat, k=5)"
   ]
  },
  {
   "cell_type": "markdown",
   "metadata": {
    "collapsed": true
   },
   "source": [
    "**6. (1 балл)** Какой метод оказался лучше по каким метрикам? Почему?"
   ]
  },
  {
   "cell_type": "markdown",
   "metadata": {
    "collapsed": true
   },
   "source": [
    "Метод most_popalr по метрике ndcg оказался лучше : ndcg score = 0.00012281961700207926 <br>\n",
    "Метрика rmse показала науилучший результат 1.22 в методе user_based\n"
   ]
  },
  {
   "cell_type": "markdown",
   "metadata": {},
   "source": [
    "**7. (1 балл)** Приведите достоинства и недостатки используемых метрик. Какие еще метрики можно было бы использовать для решения задачи? Приведите примеры других постановок задачи, как в этом случае можно было бы оценить качество?"
   ]
  },
  {
   "cell_type": "markdown",
   "metadata": {
    "collapsed": true
   },
   "source": [
    "Недостатки user_based метода в том, что у меры сходства есть недостатки из-за формулы <br>\n",
    "Метрика rmse слишком ошибается"
   ]
  },
  {
   "cell_type": "code",
   "execution_count": null,
   "metadata": {},
   "outputs": [],
   "source": []
  }
 ],
 "metadata": {
  "kernelspec": {
   "display_name": "Python 3",
   "language": "python",
   "name": "python3"
  },
  "language_info": {
   "codemirror_mode": {
    "name": "ipython",
    "version": 3
   },
   "file_extension": ".py",
   "mimetype": "text/x-python",
   "name": "python",
   "nbconvert_exporter": "python",
   "pygments_lexer": "ipython3",
   "version": "3.6.4"
  }
 },
 "nbformat": 4,
 "nbformat_minor": 1
}
